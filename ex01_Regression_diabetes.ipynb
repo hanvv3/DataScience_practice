{
 "cells": [
  {
   "cell_type": "markdown",
   "id": "5337c5be",
   "metadata": {},
   "source": [
    "    ## 싸이킷런으로 Linear Regression 모델을 사용하기."
   ]
  },
  {
   "cell_type": "code",
   "execution_count": 2,
   "id": "6e9c8d0f",
   "metadata": {},
   "outputs": [],
   "source": [
    "# 패키지 import\n",
    "import numpy as np\n",
    "from sklearn.linear_model import LinearRegression"
   ]
  },
  {
   "cell_type": "code",
   "execution_count": 3,
   "id": "bf398896",
   "metadata": {},
   "outputs": [
    {
     "name": "stdout",
     "output_type": "stream",
     "text": [
      "[0 1 2 3 4 5 6 7 8 9]\n",
      "(10,)\n"
     ]
    }
   ],
   "source": [
    "# x = [1,2,3,4,5,6,7,8,9]\n",
    "# 1차원 데이터\n",
    "# arange = array + range = ndarray type\n",
    "x = np.arange(10)\n",
    "print(x)\n",
    "print(x.shape)"
   ]
  },
  {
   "cell_type": "code",
   "execution_count": 5,
   "id": "49b9ea35",
   "metadata": {},
   "outputs": [
    {
     "name": "stdout",
     "output_type": "stream",
     "text": [
      "[[0]\n",
      " [1]\n",
      " [2]\n",
      " [3]\n",
      " [4]\n",
      " [5]\n",
      " [6]\n",
      " [7]\n",
      " [8]\n",
      " [9]]\n",
      "(10, 1)\n"
     ]
    }
   ],
   "source": [
    "# x.shape => (10,1)\n",
    "# 2차원 데이터\n",
    "# 여기서 reshape -1은 해당 행이나, 열을 알아서 맞추라는 의미.\n",
    "x = np.arange(10).reshape(-1,1)\n",
    "print(x)\n",
    "print(x.shape)"
   ]
  },
  {
   "cell_type": "code",
   "execution_count": 6,
   "id": "6ad61e61",
   "metadata": {},
   "outputs": [
    {
     "data": {
      "text/plain": [
       "array([[0, 1, 2, 3, 4],\n",
       "       [5, 6, 7, 8, 9]])"
      ]
     },
     "execution_count": 6,
     "metadata": {},
     "output_type": "execute_result"
    }
   ],
   "source": [
    "x.reshape(2,-1)"
   ]
  },
  {
   "cell_type": "code",
   "execution_count": null,
   "id": "ad6d3057",
   "metadata": {},
   "outputs": [],
   "source": []
  },
  {
   "cell_type": "code",
   "execution_count": null,
   "id": "5246a065",
   "metadata": {},
   "outputs": [],
   "source": []
  },
  {
   "cell_type": "code",
   "execution_count": 7,
   "id": "79b205cc",
   "metadata": {},
   "outputs": [
    {
     "name": "stdout",
     "output_type": "stream",
     "text": [
      "[[0]\n",
      " [1]\n",
      " [2]\n",
      " [3]\n",
      " [4]\n",
      " [5]\n",
      " [6]\n",
      " [7]\n",
      " [8]\n",
      " [9]]\n",
      "[[ 1]\n",
      " [ 3]\n",
      " [ 5]\n",
      " [ 7]\n",
      " [ 9]\n",
      " [11]\n",
      " [13]\n",
      " [15]\n",
      " [17]\n",
      " [19]]\n"
     ]
    }
   ],
   "source": [
    "# 직선의 방정식을 만들기 위해\n",
    "# y = 2x +1에 대한 데이터셋을 만든다.\n",
    "# y = wx + b\n",
    "x = np.arange(10).reshape(-1,1)\n",
    "y = (2*x + 1).reshape(-1,1)\n",
    "print(x)\n",
    "print(y)"
   ]
  },
  {
   "cell_type": "code",
   "execution_count": 8,
   "id": "a2c58823",
   "metadata": {},
   "outputs": [
    {
     "data": {
      "text/plain": [
       "LinearRegression()"
      ]
     },
     "execution_count": 8,
     "metadata": {},
     "output_type": "execute_result"
    }
   ],
   "source": [
    "# 모델 선언(정의)\n",
    "model = LinearRegression()\n",
    "model"
   ]
  },
  {
   "cell_type": "code",
   "execution_count": 11,
   "id": "94d6e4ff",
   "metadata": {},
   "outputs": [
    {
     "data": {
      "text/plain": [
       "LinearRegression()"
      ]
     },
     "execution_count": 11,
     "metadata": {},
     "output_type": "execute_result"
    }
   ],
   "source": [
    "# 학습(Training)\n",
    "# model.fit(문제, 답)\n",
    "model.fit(x,y)"
   ]
  },
  {
   "cell_type": "code",
   "execution_count": 14,
   "id": "971fbdf6",
   "metadata": {},
   "outputs": [
    {
     "data": {
      "text/plain": [
       "array([[21.]])"
      ]
     },
     "execution_count": 14,
     "metadata": {},
     "output_type": "execute_result"
    }
   ],
   "source": [
    "# 예측\n",
    "# 학습이 끝나게 되면 이전에 학습되지 않은 x 데이터를 입력해서 예측이 잘 됐는지 확인.\n",
    "prediction = model.predict([[10.0]]) # [[가 두개인 함수의 원형을 확인해야함.\n",
    "prediction"
   ]
  },
  {
   "cell_type": "code",
   "execution_count": 15,
   "id": "069c8fca",
   "metadata": {},
   "outputs": [
    {
     "data": {
      "text/plain": [
       "array([[41.6]])"
      ]
     },
     "execution_count": 15,
     "metadata": {},
     "output_type": "execute_result"
    }
   ],
   "source": [
    "prediction = model.predict([[20.3]])\n",
    "prediction"
   ]
  },
  {
   "cell_type": "markdown",
   "id": "42b9a642",
   "metadata": {},
   "source": [
    "## 데이터 분할하는 메소드\n",
    "\n",
    "### train_test_split()"
   ]
  },
  {
   "cell_type": "code",
   "execution_count": 16,
   "id": "3f29e7a4",
   "metadata": {},
   "outputs": [],
   "source": [
    "import numpy as np\n",
    "from sklearn.model_selection import train_test_split"
   ]
  },
  {
   "cell_type": "code",
   "execution_count": 18,
   "id": "beb3c2a3",
   "metadata": {},
   "outputs": [],
   "source": [
    "X = [[0,1],[2,3],[4,5],[6,7],[8,9]]\n",
    "Y = [0,1,2,3,4]\n",
    "\n",
    "# X의 전체 데이터 5개 중에 20%를 test로 주고 싶다면\n",
    "# train : test = 4 : 1\n",
    "# random_state는 random seed 값을 의미.\n",
    "\n",
    "# 데이터(X)만 train_test_split에 넣은 경우\n",
    "X_train, X_test = train_test_split(X, test_size=0.2, random_state=123)"
   ]
  },
  {
   "cell_type": "code",
   "execution_count": 21,
   "id": "6b3835d2",
   "metadata": {},
   "outputs": [
    {
     "name": "stdout",
     "output_type": "stream",
     "text": [
      "[[6, 7], [8, 9], [0, 1], [4, 5]]\n",
      "[[2, 3]]\n"
     ]
    }
   ],
   "source": [
    "print(X_train)\n",
    "print(X_test)"
   ]
  },
  {
   "cell_type": "code",
   "execution_count": 23,
   "id": "1644080d",
   "metadata": {},
   "outputs": [],
   "source": [
    "# 데이터(X)와 Label(Y)을 함께 train_test_split에 넣은 경우\n",
    "X_train, X_test, Y_train, Y_test = train_test_split(X, Y, test_size=0.2, random_state=123)"
   ]
  },
  {
   "cell_type": "code",
   "execution_count": 24,
   "id": "c566a402",
   "metadata": {},
   "outputs": [
    {
     "name": "stdout",
     "output_type": "stream",
     "text": [
      "[[6, 7], [8, 9], [0, 1], [4, 5]]\n",
      "[3, 4, 0, 2]\n",
      "[[2, 3]]\n",
      "[1]\n"
     ]
    }
   ],
   "source": [
    "print(X_train)\n",
    "print(Y_train)\n",
    "print(X_test)\n",
    "print(Y_test)"
   ]
  },
  {
   "cell_type": "markdown",
   "id": "ebef1e3a",
   "metadata": {},
   "source": [
    "## 당뇨병 1년후 병의 진전도 예측 모델"
   ]
  },
  {
   "cell_type": "markdown",
   "id": "62af21d5",
   "metadata": {},
   "source": [
    "### scikit-learn 데이터셋 중에 load_diabetes() 메소드"
   ]
  },
  {
   "cell_type": "code",
   "execution_count": 2,
   "id": "097c83f2",
   "metadata": {},
   "outputs": [],
   "source": [
    "from sklearn.datasets import load_diabetes\n",
    "diabetes = load_diabetes()"
   ]
  },
  {
   "cell_type": "code",
   "execution_count": 4,
   "id": "abebe0cb",
   "metadata": {},
   "outputs": [
    {
     "output_type": "stream",
     "name": "stdout",
     "text": [
      ".. _diabetes_dataset:\n\nDiabetes dataset\n----------------\n\nTen baseline variables, age, sex, body mass index, average blood\npressure, and six blood serum measurements were obtained for each of n =\n442 diabetes patients, as well as the response of interest, a\nquantitative measure of disease progression one year after baseline.\n\n**Data Set Characteristics:**\n\n  :Number of Instances: 442\n\n  :Number of Attributes: First 10 columns are numeric predictive values\n\n  :Target: Column 11 is a quantitative measure of disease progression one year after baseline\n\n  :Attribute Information:\n      - age     age in years\n      - sex\n      - bmi     body mass index\n      - bp      average blood pressure\n      - s1      tc, T-Cells (a type of white blood cells)\n      - s2      ldl, low-density lipoproteins\n      - s3      hdl, high-density lipoproteins\n      - s4      tch, thyroid stimulating hormone\n      - s5      ltg, lamotrigine\n      - s6      glu, blood sugar level\n\nNote: Each of these 10 feature variables have been mean centered and scaled by the standard deviation times `n_samples` (i.e. the sum of squares of each column totals 1).\n\nSource URL:\nhttps://www4.stat.ncsu.edu/~boos/var.select/diabetes.html\n\nFor more information see:\nBradley Efron, Trevor Hastie, Iain Johnstone and Robert Tibshirani (2004) \"Least Angle Regression,\" Annals of Statistics (with discussion), 407-499.\n(https://web.stanford.edu/~hastie/Papers/LARS/LeastAngle_2002.pdf)\n"
     ]
    }
   ],
   "source": [
    "print(diabetes.DESCR)"
   ]
  },
  {
   "cell_type": "code",
   "execution_count": 4,
   "id": "2b7b35dd",
   "metadata": {},
   "outputs": [
    {
     "name": "stdout",
     "output_type": "stream",
     "text": [
      "feature_names:  ['age', 'sex', 'bmi', 'bp', 's1', 's2', 's3', 's4', 's5', 's6']\n"
     ]
    }
   ],
   "source": [
    "features = diabetes.feature_names\n",
    "print('feature_names: ', features)"
   ]
  },
  {
   "cell_type": "code",
   "execution_count": 5,
   "id": "b4bc2713",
   "metadata": {},
   "outputs": [
    {
     "name": "stdout",
     "output_type": "stream",
     "text": [
      "(442, 10)\n",
      "(442,)\n"
     ]
    }
   ],
   "source": [
    "print(diabetes.data.shape)\n",
    "print(diabetes.target.shape)"
   ]
  },
  {
   "cell_type": "code",
   "execution_count": 6,
   "id": "e13e7d2f",
   "metadata": {},
   "outputs": [],
   "source": [
    "X = diabetes.data\n",
    "Y = diabetes.target"
   ]
  },
  {
   "cell_type": "code",
   "execution_count": 8,
   "id": "f5f0fbb3",
   "metadata": {},
   "outputs": [
    {
     "data": {
      "image/png": "[encoded data removed]",
      "text/plain": [
       "<Figure size 432x288 with 1 Axes>"
      ]
     },
     "metadata": {
      "needs_background": "light"
     },
     "output_type": "display_data"
    }
   ],
   "source": [
    "import matplotlib.pyplot as plt\n",
    "\n",
    "# X[2] : BMI지수, Y : target의 관계 그래프를 그려본다.\n",
    "\n",
    "# X[:,2] : 모든 열을 가져가고 인덱스 2(3번째)행을 유지.\n",
    "# 넘파이 array slicing. 참고: https://076923.github.io/posts/Python-numpy-5/\n",
    "plt.scatter(X[:,2], Y)\n",
    "plt.xlabel('BMI')\n",
    "plt.ylabel('diabetes.target')\n",
    "plt.show()"
   ]
  },
  {
   "cell_type": "code",
   "execution_count": 39,
   "id": "8d15e370",
   "metadata": {},
   "outputs": [
    {
     "name": "stdout",
     "output_type": "stream",
     "text": [
      "(442, 1)\n",
      "[[ 0.06169621]\n",
      " [-0.05147406]\n",
      " [ 0.04445121]\n",
      " [-0.01159501]\n",
      " [-0.03638469]]\n"
     ]
    }
   ],
   "source": [
    "bmi = X[:,np.newaxis, 2]\n",
    "print(bmi.shape)\n",
    "# 0~4행까지의 데이터 확인\n",
    "print(bmi[:5])"
   ]
  },
  {
   "cell_type": "code",
   "execution_count": 41,
   "id": "03d49c8a",
   "metadata": {},
   "outputs": [],
   "source": [
    "# 442개의 데이터를 train데이터와 test데이터로 나눈다.\n",
    "from sklearn.model_selection import train_test_split\n",
    "\n",
    "# 442개를 8:2로 나눈다.\n",
    "bmi_train, bmi_test, y_train, y_test = train_test_split(bmi, Y, test_size=0.2, random_state=123)"
   ]
  },
  {
   "cell_type": "code",
   "execution_count": 42,
   "id": "9b757b4e",
   "metadata": {},
   "outputs": [
    {
     "name": "stdout",
     "output_type": "stream",
     "text": [
      "(353, 1)\n",
      "(353,)\n",
      "(89, 1)\n",
      "(89,)\n"
     ]
    }
   ],
   "source": [
    "print(bmi_train.shape)\n",
    "print(y_train.shape)\n",
    "print(bmi_test.shape)\n",
    "print(y_test.shape)"
   ]
  },
  {
   "cell_type": "code",
   "execution_count": 43,
   "id": "05e52e46",
   "metadata": {},
   "outputs": [],
   "source": [
    "from sklearn.linear_model import LinearRegression\n",
    "\n",
    "# model을 선언(정의)\n",
    "model = LinearRegression()"
   ]
  },
  {
   "cell_type": "code",
   "execution_count": 44,
   "id": "224c2ee1",
   "metadata": {},
   "outputs": [
    {
     "data": {
      "text/plain": [
       "LinearRegression()"
      ]
     },
     "execution_count": 44,
     "metadata": {},
     "output_type": "execute_result"
    }
   ],
   "source": [
    "model.fit(bmi_train, y_train)"
   ]
  },
  {
   "cell_type": "code",
   "execution_count": 47,
   "id": "902a8530",
   "metadata": {},
   "outputs": [
    {
     "data": {
      "image/png": "[encoded data removed]",
      "text/plain": [
       "<Figure size 432x288 with 1 Axes>"
      ]
     },
     "metadata": {
      "needs_background": "light"
     },
     "output_type": "display_data"
    }
   ],
   "source": [
    "# 학습된 모델을 테스트 (확인)\n",
    "y_pred = model.predict(bmi_test)\n",
    "plt.scatter(bmi_train, y_train)\n",
    "plt.scatter(bmi_test, y_test)\n",
    "plt.scatter(bmi_test, y_pred)\n",
    "plt.show()"
   ]
  },
  {
   "cell_type": "code",
   "execution_count": null,
   "id": "e1013c0a",
   "metadata": {},
   "outputs": [],
   "source": []
  },
  {
   "cell_type": "code",
   "execution_count": null,
   "id": "6efead3f",
   "metadata": {},
   "outputs": [],
   "source": []
  },
  {
   "cell_type": "code",
   "execution_count": null,
   "id": "d24462c2",
   "metadata": {},
   "outputs": [],
   "source": []
  }
 ],
 "metadata": {
  "kernelspec": {
   "name": "python385jvsc74a57bd074a381cecf095c20afd27e652dfa76886bcb57cb2cfce5c4842f50f9958ff0c7",
   "display_name": "Python 3.8.5 64-bit ('base': conda)"
  },
  "language_info": {
   "codemirror_mode": {
    "name": "ipython",
    "version": 3
   },
   "file_extension": ".py",
   "mimetype": "text/x-python",
   "name": "python",
   "nbconvert_exporter": "python",
   "pygments_lexer": "ipython3",
   "version": "3.8.5-final"
  }
 },
 "nbformat": 4,
 "nbformat_minor": 5
}
{
 "cells": [
  {
   "cell_type": "markdown",
   "id": "436cfea9",
   "metadata": {},
   "source": [
    "# $\\alpha=\\beta$"
   ]
  },
  {
   "cell_type": "markdown",
   "id": "d5dceeac",
   "metadata": {},
   "source": [
    "~~~\n",
    "$\\alpha=\\beta$\n",
    "~~~"
   ]
  },
  {
   "cell_type": "markdown",
   "id": "862655bd",
   "metadata": {},
   "source": [
    "$\\alpha:alpha$ 알파"
   ]
  },
  {
   "cell_type": "markdown",
   "id": "ccaa706b",
   "metadata": {},
   "source": [
    "$\\beta:beta$ 베타"
   ]
  },
  {
   "cell_type": "markdown",
   "id": "f971f894",
   "metadata": {},
   "source": [
    "$\\gamma:gamma$ 감마"
   ]
  },
  {
   "cell_type": "markdown",
   "id": "655ac66f",
   "metadata": {},
   "source": [
    "$\\delta:delta$ 델타"
   ]
  },
  {
   "cell_type": "markdown",
   "id": "e47af0d5",
   "metadata": {},
   "source": [
    "$\\epsilon:epsilon$ 엡실론"
   ]
  },
  {
   "cell_type": "markdown",
   "id": "02dbf69f",
   "metadata": {},
   "source": [
    "$\\zeta:zeta$ 제타"
   ]
  },
  {
   "cell_type": "markdown",
   "id": "45ace5bd",
   "metadata": {},
   "source": [
    "$\\eta:eta$ 에타"
   ]
  },
  {
   "cell_type": "markdown",
   "id": "90295c55",
   "metadata": {},
   "source": [
    "$\\theta:theta$ 쎄타"
   ]
  },
  {
   "cell_type": "markdown",
   "id": "f7751a00",
   "metadata": {},
   "source": [
    "$\\kappa:kappa$ 카파"
   ]
  },
  {
   "cell_type": "markdown",
   "id": "a3157af8",
   "metadata": {},
   "source": [
    "$\\lambda:lambda$ 람다"
   ]
  },
  {
   "cell_type": "markdown",
   "id": "621d774d",
   "metadata": {},
   "source": [
    "> * 인용 부호 입니다."
   ]
  },
  {
   "cell_type": "markdown",
   "id": "be826640",
   "metadata": {},
   "source": [
    ">> ## 인용 부호 입니다."
   ]
  },
  {
   "cell_type": "markdown",
   "id": "05b72b22",
   "metadata": {},
   "source": []
  }
 ],
 "metadata": {
  "kernelspec": {
   "display_name": "Python 3",
   "language": "python",
   "name": "python3"
  },
  "language_info": {
   "codemirror_mode": {
    "name": "ipython",
    "version": 3
   },
   "file_extension": ".py",
   "mimetype": "text/x-python",
   "name": "python",
   "nbconvert_exporter": "python",
   "pygments_lexer": "ipython3",
   "version": "3.6.13"
  }
 },
 "nbformat": 4,
 "nbformat_minor": 5
}

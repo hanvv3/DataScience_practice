{
 "cells": [
  {
   "cell_type": "markdown",
   "id": "71a19414",
   "metadata": {},
   "source": [
    "## Numpy Version"
   ]
  },
  {
   "cell_type": "code",
   "execution_count": 1,
   "id": "52f373bb",
   "metadata": {},
   "outputs": [],
   "source": [
    "import numpy as np\n",
    "# import pandas as pd"
   ]
  },
  {
   "cell_type": "code",
   "execution_count": 3,
   "id": "4ea192f0",
   "metadata": {},
   "outputs": [
    {
     "data": {
      "text/plain": [
       "'1.19.2'"
      ]
     },
     "execution_count": 3,
     "metadata": {},
     "output_type": "execute_result"
    }
   ],
   "source": [
    "# jupyter notebook은 cell안의 가장 마지막 라인을 실행/출력해준다.\n",
    "#pd.__version__\n",
    "np.__version__"
   ]
  },
  {
   "cell_type": "markdown",
   "id": "61b16a7d",
   "metadata": {},
   "source": [
    "### ndarray 생성"
   ]
  },
  {
   "cell_type": "code",
   "execution_count": 4,
   "id": "03bf972a",
   "metadata": {},
   "outputs": [],
   "source": [
    "arr = np.array([1,2,3,4], dtype=int)"
   ]
  },
  {
   "cell_type": "code",
   "execution_count": 5,
   "id": "c18d883a",
   "metadata": {},
   "outputs": [
    {
     "data": {
      "text/plain": [
       "array([1, 2, 3, 4])"
      ]
     },
     "execution_count": 5,
     "metadata": {},
     "output_type": "execute_result"
    }
   ],
   "source": [
    "arr"
   ]
  },
  {
   "cell_type": "code",
   "execution_count": 6,
   "id": "f91d0fa3",
   "metadata": {},
   "outputs": [
    {
     "data": {
      "text/plain": [
       "(4,)"
      ]
     },
     "execution_count": 6,
     "metadata": {},
     "output_type": "execute_result"
    }
   ],
   "source": [
    "arr.shape"
   ]
  },
  {
   "cell_type": "code",
   "execution_count": 9,
   "id": "752781b6",
   "metadata": {},
   "outputs": [
    {
     "data": {
      "text/plain": [
       "numpy.ndarray"
      ]
     },
     "execution_count": 9,
     "metadata": {},
     "output_type": "execute_result"
    }
   ],
   "source": [
    "type(arr)"
   ]
  },
  {
   "cell_type": "code",
   "execution_count": null,
   "id": "81800d39",
   "metadata": {},
   "outputs": [],
   "source": [
    "# python List타입과 넘파이 shape과 tensor를 헷갈릴 수 있다. 항상 확인 해줘야한다.\n",
    "\n",
    "# 1차원 리스트\n",
    "myList = [1,2,3,4]\n",
    "\n",
    "# 1차원 벡터 소수점 넘파이 생성하기.\n",
    "arr = np.array(myList, dtype=float)\n",
    "\n",
    "# float형의 리스트를 int형 dtype으로 받으면 오류나 경고없이 바로 casting이 일어난다.\n",
    "# dtype의 default값은 입력값의 데이터형. ex) float->float, int->int"
   ]
  },
  {
   "cell_type": "code",
   "execution_count": null,
   "id": "5b7b31e8",
   "metadata": {},
   "outputs": [],
   "source": [
    "arr"
   ]
  },
  {
   "cell_type": "code",
   "execution_count": 10,
   "id": "11d7c336",
   "metadata": {},
   "outputs": [],
   "source": [
    "# 2차원 리스트\n",
    "myList2 = [[1,2,3,4],\n",
    "           [5,6,7,8]]"
   ]
  },
  {
   "cell_type": "code",
   "execution_count": null,
   "id": "4393e010",
   "metadata": {},
   "outputs": [],
   "source": [
    "myList2"
   ]
  },
  {
   "cell_type": "code",
   "execution_count": 11,
   "id": "f312a12f",
   "metadata": {},
   "outputs": [],
   "source": [
    "arr = np.array(myList2)"
   ]
  },
  {
   "cell_type": "code",
   "execution_count": 12,
   "id": "bebfec99",
   "metadata": {},
   "outputs": [
    {
     "data": {
      "text/plain": [
       "(2, 4)"
      ]
     },
     "execution_count": 12,
     "metadata": {},
     "output_type": "execute_result"
    }
   ],
   "source": [
    "arr.shape"
   ]
  },
  {
   "cell_type": "code",
   "execution_count": null,
   "id": "33fa5362",
   "metadata": {},
   "outputs": [],
   "source": [
    "# 혼합 리스트\n",
    "# 데이터 사이즈에 따라 가장 큰 데이터형으로 바뀜 (여기선 string)\n",
    "myList = [1,3.14,'hello','1234']"
   ]
  },
  {
   "cell_type": "code",
   "execution_count": null,
   "id": "d17c4a13",
   "metadata": {},
   "outputs": [],
   "source": [
    "arr = np.array(myList)"
   ]
  },
  {
   "cell_type": "code",
   "execution_count": null,
   "id": "a944724b",
   "metadata": {},
   "outputs": [],
   "source": [
    "# dtype='<U32' : 문자열의 크기\n",
    "arr"
   ]
  },
  {
   "cell_type": "code",
   "execution_count": null,
   "id": "0bf28415",
   "metadata": {},
   "outputs": [],
   "source": [
    "# 문자열로 변환된 데이터간의 더하기 (string+string)\n",
    "arr[0]+arr[1]"
   ]
  },
  {
   "cell_type": "markdown",
   "id": "e0239e99",
   "metadata": {},
   "source": [
    "## Slicing\n",
    "\n",
    "- 배열을 부분선택\n",
    "- 1차원 배열의 부분선택"
   ]
  },
  {
   "cell_type": "code",
   "execution_count": null,
   "id": "f7a74d62",
   "metadata": {},
   "outputs": [],
   "source": [
    "arr = np.array([0,1,2,3,4,5,6,7,8,9])\n",
    "arr.shape"
   ]
  },
  {
   "cell_type": "markdown",
   "id": "5b762a63",
   "metadata": {},
   "source": [
    "### 2차원"
   ]
  },
  {
   "cell_type": "code",
   "execution_count": null,
   "id": "5057c352",
   "metadata": {},
   "outputs": [],
   "source": [
    "arr2d = np.array([[1,2,3,4],[5,6,7,8],[9,10,11,12]])"
   ]
  },
  {
   "cell_type": "code",
   "execution_count": null,
   "id": "eeaec1de",
   "metadata": {},
   "outputs": [],
   "source": [
    "arr2d"
   ]
  },
  {
   "cell_type": "code",
   "execution_count": null,
   "id": "01368e49",
   "metadata": {},
   "outputs": [],
   "source": [
    "# np.arange(12): 시작값은 0 by default\n",
    "# np.arange(1,13): 시작값을 파라미터에 줘야 1-12 어레이가 만들어짐.\n",
    "\n",
    "arr2d = np.array(np.arange(1,13)).reshape(3,-1)"
   ]
  },
  {
   "cell_type": "code",
   "execution_count": null,
   "id": "de1cc64b",
   "metadata": {},
   "outputs": [],
   "source": [
    "arr2d"
   ]
  },
  {
   "cell_type": "code",
   "execution_count": null,
   "id": "a4929d76",
   "metadata": {},
   "outputs": [],
   "source": [
    "arr2d[:,2]"
   ]
  },
  {
   "cell_type": "code",
   "execution_count": null,
   "id": "eb343130",
   "metadata": {},
   "outputs": [],
   "source": [
    "arr2d[:2,1:3]"
   ]
  },
  {
   "cell_type": "code",
   "execution_count": null,
   "id": "b429972f",
   "metadata": {},
   "outputs": [],
   "source": [
    "# 5x5 배열, 1부터 25까지 1씩 증가하는 배열.\n",
    "my2dArr = np.array(np.arange(1,26)).reshape(5,-1)"
   ]
  },
  {
   "cell_type": "code",
   "execution_count": null,
   "id": "311cf177",
   "metadata": {},
   "outputs": [],
   "source": [
    "my2dArr[2:,1:4]"
   ]
  },
  {
   "cell_type": "markdown",
   "id": "35d7722c",
   "metadata": {},
   "source": [
    "## Fancy Indexing\n",
    "- 범위가 아닌 특정 index값을 선택해서 추출하고 싶을 때."
   ]
  },
  {
   "cell_type": "markdown",
   "id": "74aaa46c",
   "metadata": {},
   "source": [
    "### 1차원"
   ]
  },
  {
   "cell_type": "code",
   "execution_count": null,
   "id": "86d8c967",
   "metadata": {},
   "outputs": [],
   "source": [
    "myArr = np.array(np.arange(1,10))"
   ]
  },
  {
   "cell_type": "code",
   "execution_count": null,
   "id": "47d42d54",
   "metadata": {},
   "outputs": [],
   "source": [
    "myArr"
   ]
  },
  {
   "cell_type": "code",
   "execution_count": null,
   "id": "78f5c424",
   "metadata": {},
   "outputs": [],
   "source": [
    "idx = [0,2,4]"
   ]
  },
  {
   "cell_type": "code",
   "execution_count": null,
   "id": "cbcd5c2b",
   "metadata": {},
   "outputs": [],
   "source": [
    "myArr[idx]"
   ]
  },
  {
   "cell_type": "markdown",
   "id": "0cdd30ab",
   "metadata": {},
   "source": [
    "### 2차원"
   ]
  },
  {
   "cell_type": "code",
   "execution_count": null,
   "id": "9ef83614",
   "metadata": {},
   "outputs": [],
   "source": [
    "my2dArr = np.array(np.arange(1,13)).reshape(3,-1)\n",
    "my2dArr"
   ]
  },
  {
   "cell_type": "code",
   "execution_count": null,
   "id": "178c2f2d",
   "metadata": {},
   "outputs": [],
   "source": [
    "index = [0,2,3]"
   ]
  },
  {
   "cell_type": "code",
   "execution_count": null,
   "id": "fdb88cd7",
   "metadata": {},
   "outputs": [],
   "source": [
    "my2dArr[:2,index]"
   ]
  },
  {
   "cell_type": "markdown",
   "id": "c9c0e7ef",
   "metadata": {},
   "source": [
    "## Boolean Indexing\n",
    "\n",
    " - 조건 필터링을 통해서 Boolean값을 이용한 색인"
   ]
  },
  {
   "cell_type": "code",
   "execution_count": null,
   "id": "fde65e15",
   "metadata": {},
   "outputs": [],
   "source": [
    "arr = np.array(np.arange(1,8))\n",
    "arr"
   ]
  },
  {
   "cell_type": "code",
   "execution_count": null,
   "id": "544dbb40",
   "metadata": {},
   "outputs": [],
   "source": [
    "arr2d = np.array(np.arange(1,13)).reshape(3,-1)\n",
    "arr2d"
   ]
  },
  {
   "cell_type": "code",
   "execution_count": null,
   "id": "ea3d65c0",
   "metadata": {},
   "outputs": [],
   "source": [
    "myTrueFalse = [True,False,True,False,False,False,False]\n",
    "\n",
    "# True조건만 가져온다.\n",
    "arr[myTrueFalse]"
   ]
  },
  {
   "cell_type": "code",
   "execution_count": null,
   "id": "642aeba1",
   "metadata": {},
   "outputs": [],
   "source": [
    "myTrueFalse = [[True,False,True,False],\n",
    "               [True,False,True,False],\n",
    "              [False,False,False,False]]\n",
    "\n",
    "# 서로 타입이 같아야 하므로 ndarray로 바꿔준다.\n",
    "TrueFalse = np.array(myTrueFalse)\n",
    "\n",
    "arr2d[TrueFalse]"
   ]
  },
  {
   "cell_type": "code",
   "execution_count": null,
   "id": "dc728223",
   "metadata": {},
   "outputs": [],
   "source": [
    "# 조건 필터\n",
    "TrueFalse = arr2d > 2"
   ]
  },
  {
   "cell_type": "code",
   "execution_count": null,
   "id": "0a10decb",
   "metadata": {},
   "outputs": [],
   "source": [
    "arr2d[TrueFalse]"
   ]
  },
  {
   "cell_type": "code",
   "execution_count": null,
   "id": "8626c51d",
   "metadata": {},
   "outputs": [],
   "source": [
    "arr2d[arr2d>2]"
   ]
  },
  {
   "cell_type": "markdown",
   "id": "c79ada80",
   "metadata": {},
   "source": [
    "## arange() 함수\n",
    "\n",
    "- array + range = arange"
   ]
  },
  {
   "cell_type": "code",
   "execution_count": null,
   "id": "3c26c205",
   "metadata": {},
   "outputs": [],
   "source": [
    "# start(이상), stop(미만), step(증가/감소 단위)\n",
    "arr = np.arange(1,11)\n",
    "arr"
   ]
  },
  {
   "cell_type": "markdown",
   "id": "46ed85e9",
   "metadata": {},
   "source": [
    "### range (파이썬 문법)\n",
    "\n",
    "- range하나만으로는 조건을 의미할뿐 값을 생성하거나 반환하지 않음."
   ]
  },
  {
   "cell_type": "markdown",
   "id": "29be98c9",
   "metadata": {},
   "source": [
    "## Sorting\n",
    "\n",
    "### 1차원 정렬"
   ]
  },
  {
   "cell_type": "code",
   "execution_count": null,
   "id": "8c538f90",
   "metadata": {},
   "outputs": [],
   "source": [
    "arr = np.array([1,6,8,5,9,10,3,4,7,2])\n",
    "arr"
   ]
  },
  {
   "cell_type": "code",
   "execution_count": null,
   "id": "48ee8074",
   "metadata": {},
   "outputs": [],
   "source": [
    "# ascending order by default\n",
    "# sorted값을 반환하나 arr 자체를 바꿔주지 않음.\n",
    "np.sort(arr)"
   ]
  },
  {
   "cell_type": "code",
   "execution_count": null,
   "id": "332ca788",
   "metadata": {},
   "outputs": [],
   "source": [
    "# 확인\n",
    "arr"
   ]
  },
  {
   "cell_type": "code",
   "execution_count": null,
   "id": "a249efdc",
   "metadata": {},
   "outputs": [],
   "source": [
    "mySort = np.sort(arr)\n",
    "mySort"
   ]
  },
  {
   "cell_type": "code",
   "execution_count": null,
   "id": "282d9adb",
   "metadata": {},
   "outputs": [],
   "source": [
    "# 내림차순 정렬 (using slicing&indexing)\n",
    "np.sort(arr)[::-1]"
   ]
  },
  {
   "cell_type": "markdown",
   "id": "3c36d16e",
   "metadata": {},
   "source": [
    "### 2차원 정렬"
   ]
  },
  {
   "cell_type": "code",
   "execution_count": null,
   "id": "3df8575c",
   "metadata": {},
   "outputs": [],
   "source": [
    "arr2d = np.array([[7,2,9,5],\n",
    "                 [11,4,6,1],\n",
    "                 [12,3,10,8]])"
   ]
  },
  {
   "cell_type": "code",
   "execution_count": null,
   "id": "3916ca81",
   "metadata": {},
   "outputs": [],
   "source": [
    "arr2d.shape"
   ]
  },
  {
   "cell_type": "code",
   "execution_count": null,
   "id": "518d3a7b",
   "metadata": {},
   "outputs": [],
   "source": [
    "arr2d"
   ]
  },
  {
   "cell_type": "code",
   "execution_count": null,
   "id": "36125bd7",
   "metadata": {},
   "outputs": [],
   "source": [
    "# axis=1: 같은 행 간 정렬.\n",
    "np.sort(arr2d, axis=1)"
   ]
  },
  {
   "cell_type": "code",
   "execution_count": null,
   "id": "e5394ba2",
   "metadata": {},
   "outputs": [],
   "source": [
    "# axis=0: 같은 열 간 정렬\n",
    "np.sort(arr2d, axis=0)"
   ]
  },
  {
   "cell_type": "markdown",
   "id": "b13efb6e",
   "metadata": {},
   "source": [
    "## Index를 반환하는 argsort(self, axis=1 or 0)"
   ]
  },
  {
   "cell_type": "code",
   "execution_count": null,
   "id": "593a6508",
   "metadata": {},
   "outputs": [],
   "source": [
    "arr2d = np.array([[7,2,9,5],\n",
    "                 [11,4,6,1],\n",
    "                 [12,3,10,8]])\n",
    "\n",
    "arr2d"
   ]
  },
  {
   "cell_type": "code",
   "execution_count": null,
   "id": "3860523a",
   "metadata": {},
   "outputs": [],
   "source": [
    "# 열 정렬(왼쪽에서 오른쪽으로)\n",
    "# argsort를 통해 출력되는 배열의 데이터는 index값을 의미\n",
    "np.argsort(arr2d, axis=1)"
   ]
  },
  {
   "cell_type": "markdown",
   "id": "713b89f0",
   "metadata": {},
   "source": [
    "## Numpy를 이용한 행렬 연산\n",
    "\n",
    "- 넘파이에선 같은 행과 열의 수를 가진 것 끼리만 연산 가능하지만 pandas는 다른것 끼리도 가능\n",
    "\n",
    "### 행렬의 덧셈"
   ]
  },
  {
   "cell_type": "code",
   "execution_count": null,
   "id": "2f215cc1",
   "metadata": {},
   "outputs": [],
   "source": [
    "a = np.array([[1,2,3],\n",
    "             [2,3,4]])"
   ]
  },
  {
   "cell_type": "code",
   "execution_count": null,
   "id": "6a57813a",
   "metadata": {},
   "outputs": [],
   "source": [
    "b = np.array([[3,4,5],\n",
    "             [1,2,3]])"
   ]
  },
  {
   "cell_type": "code",
   "execution_count": null,
   "id": "39e6a6b2",
   "metadata": {},
   "outputs": [],
   "source": [
    "a + b"
   ]
  },
  {
   "cell_type": "code",
   "execution_count": null,
   "id": "dca4ae2b",
   "metadata": {},
   "outputs": [],
   "source": [
    "# np.sum\n",
    "a = np.array(np.arange(1,26)).reshape(5,5)\n",
    "a"
   ]
  },
  {
   "cell_type": "code",
   "execution_count": null,
   "id": "bb78c92a",
   "metadata": {},
   "outputs": [],
   "source": [
    "# 같은 열 데이터 간 더하기\n",
    "np.sum(a, axis=0)"
   ]
  },
  {
   "cell_type": "code",
   "execution_count": null,
   "id": "f252caa4",
   "metadata": {},
   "outputs": [],
   "source": [
    "# 같은 행 데이터 간 더하기\n",
    "np.sum(a, axis=1)"
   ]
  },
  {
   "cell_type": "markdown",
   "id": "571162c1",
   "metadata": {},
   "source": [
    "### 행렬의 뺄셈은 생략"
   ]
  },
  {
   "cell_type": "markdown",
   "id": "fe262fed",
   "metadata": {},
   "source": [
    "### 행렬의 곱셈\n",
    "- 참고: https://j1w2k3.tistory.com/575"
   ]
  },
  {
   "cell_type": "code",
   "execution_count": null,
   "id": "a8c66738",
   "metadata": {},
   "outputs": [],
   "source": [
    "a = np.array([[1,2,3],\n",
    "             [2,3,4]])"
   ]
  },
  {
   "cell_type": "code",
   "execution_count": null,
   "id": "d3cfb4dc",
   "metadata": {},
   "outputs": [],
   "source": [
    "b = np.array([[3,4,5],\n",
    "             [1,2,3]])"
   ]
  },
  {
   "cell_type": "code",
   "execution_count": null,
   "id": "88cd782d",
   "metadata": {},
   "outputs": [],
   "source": [
    "a.shape, b.shape"
   ]
  },
  {
   "cell_type": "code",
   "execution_count": null,
   "id": "12ffd9c3",
   "metadata": {},
   "outputs": [],
   "source": [
    "# 아다마르 곱\n",
    "a*b"
   ]
  },
  {
   "cell_type": "code",
   "execution_count": null,
   "id": "fa98bae1",
   "metadata": {},
   "outputs": [],
   "source": [
    "a = np.array(np.arange(1,10)).reshape(3,-1)\n",
    "a"
   ]
  },
  {
   "cell_type": "code",
   "execution_count": null,
   "id": "1cfdf8c6",
   "metadata": {},
   "outputs": [],
   "source": [
    "b = np.array(np.arange(1,7)).reshape(3,-1)\n",
    "b"
   ]
  },
  {
   "cell_type": "code",
   "execution_count": null,
   "id": "25a8597a",
   "metadata": {},
   "outputs": [],
   "source": [
    "a.shape, b.shape"
   ]
  },
  {
   "cell_type": "code",
   "execution_count": null,
   "id": "f52c9b7f",
   "metadata": {},
   "outputs": [],
   "source": [
    "# 기본 행렬의 곱 표현 1\n",
    "np.dot(a,b)"
   ]
  },
  {
   "cell_type": "code",
   "execution_count": null,
   "id": "419f1466",
   "metadata": {},
   "outputs": [],
   "source": [
    "# 기본 행렬의 곱 표현 2\n",
    "a.dot(b)"
   ]
  },
  {
   "cell_type": "markdown",
   "id": "bcda8d4f",
   "metadata": {},
   "source": [
    "## Broadcasting\n",
    "\n"
   ]
  },
  {
   "cell_type": "code",
   "execution_count": null,
   "id": "25ab998e",
   "metadata": {},
   "outputs": [],
   "source": [
    "a = np.array([[1,2,3],\n",
    "             [2,3,4]])"
   ]
  },
  {
   "cell_type": "code",
   "execution_count": null,
   "id": "2a95f54d",
   "metadata": {},
   "outputs": [],
   "source": [
    "b = np.array([[3,3,3],\n",
    "             [3,3,3]])"
   ]
  },
  {
   "cell_type": "code",
   "execution_count": null,
   "id": "dda6034c",
   "metadata": {},
   "outputs": [],
   "source": [
    "a + b"
   ]
  },
  {
   "cell_type": "code",
   "execution_count": null,
   "id": "2e17a274",
   "metadata": {},
   "outputs": [],
   "source": [
    "# broadcasting 연산\n",
    "\n",
    "# 모든 데이터에 3을 더한값.\n",
    "a + 3"
   ]
  },
  {
   "cell_type": "code",
   "execution_count": null,
   "id": "41e9b992",
   "metadata": {},
   "outputs": [],
   "source": [
    "# broadcasting을 이용한 아다마르 곱\n",
    "a * 3"
   ]
  },
  {
   "cell_type": "code",
   "execution_count": null,
   "id": "c61c8f96",
   "metadata": {},
   "outputs": [],
   "source": [
    "# 행 단위로 broadcasting연산 수행 가능\n",
    "b = np.array([[1],\n",
    "             [2]])\n",
    "b"
   ]
  },
  {
   "cell_type": "code",
   "execution_count": null,
   "id": "46f10562",
   "metadata": {},
   "outputs": [],
   "source": [
    "a.shape, b.shape"
   ]
  },
  {
   "cell_type": "code",
   "execution_count": null,
   "id": "be280799",
   "metadata": {},
   "outputs": [],
   "source": [
    "a * b"
   ]
  },
  {
   "cell_type": "code",
   "execution_count": null,
   "id": "02cefb18",
   "metadata": {},
   "outputs": [],
   "source": [
    "# 열 단위로 broadcasting하기.\n",
    "b = np.array([1,2,3])\n",
    "b"
   ]
  },
  {
   "cell_type": "code",
   "execution_count": null,
   "id": "d9d17908",
   "metadata": {},
   "outputs": [],
   "source": [
    "a * b"
   ]
  },
  {
   "cell_type": "markdown",
   "id": "c4c630af",
   "metadata": {},
   "source": [
    "---"
   ]
  },
  {
   "cell_type": "code",
   "execution_count": null,
   "id": "efb1edc4",
   "metadata": {},
   "outputs": [],
   "source": []
  }
 ],
 "metadata": {
  "kernelspec": {
   "display_name": "Python 3",
   "language": "python",
   "name": "python3"
  },
  "language_info": {
   "codemirror_mode": {
    "name": "ipython",
    "version": 3
   },
   "file_extension": ".py",
   "mimetype": "text/x-python",
   "name": "python",
   "nbconvert_exporter": "python",
   "pygments_lexer": "ipython3",
   "version": "3.6.13"
  }
 },
 "nbformat": 4,
 "nbformat_minor": 5
}

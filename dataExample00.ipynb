{
 "cells": [
  {
   "cell_type": "code",
   "execution_count": null,
   "id": "bb2ae151",
   "metadata": {
    "scrolled": false
   },
   "outputs": [],
   "source": [
    "import os\n",
    "\n",
    "path = \"/Users/seanhan/Downloads/2021 BIT AI 과정/202103 BIT Python/03.DataScience AI/resources/train\"\n",
    "file_list = os.listdir(path)\n",
    "\n",
    "print(f'file_list: {file_list}')"
   ]
  },
  {
   "cell_type": "code",
   "execution_count": null,
   "id": "c7138c6e",
   "metadata": {},
   "outputs": [],
   "source": [
    "crossCount, leftCount, rightCount, topCount = 0, 0, 0, 0\n",
    "\n",
    "for fileName in file_list:\n",
    "    dirName, baseName = os.path.split(fileName)\n",
    "    category = baseName.split('_')\n",
    "    \n",
    "    if category[0] == 'cross':\n",
    "        crossCount += 1\n",
    "    elif category[0] == 'left':\n",
    "        leftCount += 1\n",
    "    elif category[0] == 'right':\n",
    "        rightCount += 1\n",
    "    else: topCount += 1\n",
    "\n",
    "print(\"crossCount = {}\".format(crossCount))\n",
    "print(\"leftCount = {}\".format(leftCount))\n",
    "print(\"rightCount = {}\".format(rightCount))\n",
    "print(\"topCount = {}\".format(topCount))"
   ]
  },
  {
   "cell_type": "code",
   "execution_count": null,
   "id": "59791e84",
   "metadata": {},
   "outputs": [],
   "source": []
  },
  {
   "cell_type": "code",
   "execution_count": null,
   "id": "aef68ef6",
   "metadata": {},
   "outputs": [],
   "source": []
  },
  {
   "cell_type": "code",
   "execution_count": null,
   "id": "46fd6077",
   "metadata": {},
   "outputs": [],
   "source": [
    "import glob\n",
    "\n",
    "path = '/Users/seanhan/Downloads/2021 BIT AI 과정/202103 BIT Python/03.DataScience AI/resources/train/*.jpg'\n",
    "file_list = glob.glob(path)\n",
    "\n",
    "print(f'file_list_py: {file_list}')"
   ]
  }
 ],
 "metadata": {
  "kernelspec": {
   "display_name": "Python 3",
   "language": "python",
   "name": "python3"
  },
  "language_info": {
   "codemirror_mode": {
    "name": "ipython",
    "version": 3
   },
   "file_extension": ".py",
   "mimetype": "text/x-python",
   "name": "python",
   "nbconvert_exporter": "python",
   "pygments_lexer": "ipython3",
   "version": "3.6.13"
  }
 },
 "nbformat": 4,
 "nbformat_minor": 5
}
